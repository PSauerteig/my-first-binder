{
 "cells": [
  {
   "cell_type": "markdown",
   "metadata": {},
   "source": [
    "**This is a test for a public Jupyter Notebook.**"
   ]
  },
  {
   "cell_type": "code",
   "execution_count": 1,
   "metadata": {},
   "outputs": [],
   "source": [
    "# Load the following python packages\n",
    "import numpy as np\n",
    "from matplotlib import pyplot as plt\n",
    "# make plots appear within the notebook\n",
    "%matplotlib inline\n",
    "from scipy.integrate import odeint"
   ]
  },
  {
   "cell_type": "markdown",
   "metadata": {},
   "source": [
    "**Euler method**\n",
    "\n",
    "Consider the initial value problem (IVP)\n",
    "$$ \\tfrac{\\mathrm{d}}{\\mathrm{d}t} x(t) = f(x(t)), \\quad x(0) = x^0. $$\n",
    "A simple approach to solve this IVP numerically is to consider the approximation of the derivative via the quotient of differences, i.e.\n",
    "$$ f(x(t)) = \\tfrac{\\mathrm{d}}{\\mathrm{d}t} x(t) \\approx \\frac{x(t+\\varepsilon) - x(t)}{\\varepsilon} $$\n",
    "for small values of $\\varepsilon > 0$. \n",
    "\n",
    "This idea motivates the following iterative scheme to solve IVP:\n",
    "1. $x(0) = x^0$\n",
    "2. $x(t_{n+1}) = x(t_n) + h f(x(t_n))$\n",
    "for some predefined step size $h > 0$. "
   ]
  },
  {
   "cell_type": "markdown",
   "metadata": {},
   "source": [
    "**Logistic growth**\n",
    "\n",
    "Consider the IVP\n",
    "$$ \\tfrac{\\mathrm{d}}{\\mathrm{d}t} N(t) = rN(t) \\left(1 - \\frac{N(t)}{K} \\right), \\quad N(0) = N^0$$\n",
    "for some initial value $N^0 \\in \\mathbb{N}$, upper bound $K \\in \\mathbb{N}$, and growth rate $r > 0$.\n",
    "\n",
    "**Excercise**\n",
    "\n",
    "Use the Euler method to solve determine the population after 20 time units, starting with $N^0 = 50$, growth rate $r = 0.3$ and $K = 1000$."
   ]
  },
  {
   "cell_type": "code",
   "execution_count": 2,
   "metadata": {},
   "outputs": [
    {
     "data": {
      "text/plain": [
       "[<matplotlib.lines.Line2D at 0x7fe0483c7e50>]"
      ]
     },
     "execution_count": 2,
     "metadata": {},
     "output_type": "execute_result"
    },
    {
     "data": {
      "image/png": "[encoded data removed]",
      "text/plain": [
       "<Figure size 432x288 with 1 Axes>"
      ]
     },
     "metadata": {
      "needs_background": "light"
     },
     "output_type": "display_data"
    }
   ],
   "source": [
    "def loggrowth(N, t=0, r=0.3, K=1000):\n",
    "    return r*N*(1-N/K)\n",
    "\n",
    "def myEuler(f, x0, t0, tend, h=1e-3):\n",
    "    # intialization\n",
    "    n = 0\n",
    "    t = np.arange(t0, tend, h)\n",
    "    \n",
    "    x = np.zeros(len(t)+1)\n",
    "    x[n] = x0\n",
    "    \n",
    "    # Euler step\n",
    "    for s in t:\n",
    "        x[n+1] = x[n] + h*f(x[n])\n",
    "        n = n+1\n",
    "        \n",
    "    return [t, x]\n",
    "\n",
    "N0 = 50\n",
    "t0 = 0\n",
    "tend = 20\n",
    "\n",
    "[t, x] = myEuler(loggrowth, N0, t0, tend)\n",
    "\n",
    "plt.xlabel(\"t\")\n",
    "plt.ylabel(\"N\")\n",
    "plt.plot(t,x[:-1])"
   ]
  },
  {
   "cell_type": "markdown",
   "metadata": {},
   "source": [
    "The solution should look like this:"
   ]
  },
  {
   "cell_type": "code",
   "execution_count": 3,
   "metadata": {},
   "outputs": [
    {
     "data": {
      "text/plain": [
       "[<matplotlib.lines.Line2D at 0x7fe018091a60>]"
      ]
     },
     "execution_count": 3,
     "metadata": {},
     "output_type": "execute_result"
    },
    {
     "data": {
      "image/png": "[encoded data removed]",
      "text/plain": [
       "<Figure size 432x288 with 1 Axes>"
      ]
     },
     "metadata": {
      "needs_background": "light"
     },
     "output_type": "display_data"
    }
   ],
   "source": [
    "def loggrowth(N, t, r=0.3, K=1000):\n",
    "    return r*N*(1-N/K)\n",
    "\n",
    "# time discretization\n",
    "ts = np.linspace(0, 20, 1000)\n",
    "\n",
    "# intial value\n",
    "N0 = 50\n",
    "\n",
    "# solve ODE \n",
    "Ns = odeint(loggrowth, N0, ts)\n",
    "\n",
    "plt.xlabel(\"t\")\n",
    "plt.ylabel(\"N\")\n",
    "plt.plot(ts,Ns[:,0])"
   ]
  },
  {
   "cell_type": "code",
   "execution_count": null,
   "metadata": {},
   "outputs": [],
   "source": []
  }
 ],
 "metadata": {
  "kernelspec": {
   "display_name": "Python 3",
   "language": "python",
   "name": "python3"
  },
  "language_info": {
   "codemirror_mode": {
    "name": "ipython",
    "version": 3
   },
   "file_extension": ".py",
   "mimetype": "text/x-python",
   "name": "python",
   "nbconvert_exporter": "python",
   "pygments_lexer": "ipython3",
   "version": "3.8.5"
  }
 },
 "nbformat": 4,
 "nbformat_minor": 4
}
